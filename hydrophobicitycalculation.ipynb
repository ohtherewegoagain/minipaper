{
 "cells": [
  {
   "cell_type": "code",
   "execution_count": 1,
   "id": "988de4c8",
   "metadata": {},
   "outputs": [
    {
     "name": "stdout",
     "output_type": "stream",
     "text": [
      "  Protein Name              Function  Hydrophobicity Index\n",
      "0         TP53  Transcription Factor             -0.756234\n",
      "1       NF-κB1  Transcription Factor             -0.339360\n",
      "2        STAT1  Transcription Factor             -0.522933\n",
      "3        FOXP3  Transcription Factor             -0.353132\n",
      "4          MYC  Transcription Factor             -0.764537\n"
     ]
    }
   ],
   "source": [
    "import pandas as pd\n",
    "\n",
    "file_path = r\"C:\\Users\\avani\\Downloads\\Protein_Comparison_Template.xlsx\"\n",
    "df = pd.read_excel(file_path)\n",
    "\n",
    "hydropathy_index = {\n",
    "    'A': 1.8,  'R': -4.5, 'N': -3.5, 'D': -3.5, 'C': 2.5,\n",
    "    'Q': -3.5, 'E': -3.5, 'G': -0.4, 'H': -3.2, 'I': 4.5,\n",
    "    'L': 3.8,  'K': -3.9, 'M': 1.9,  'F': 2.8,  'P': -1.6,\n",
    "    'S': -0.8, 'T': -0.7, 'W': -0.9, 'Y': -1.3, 'V': 4.2\n",
    "}\n",
    "\n",
    "def calculate_hydrophobicity(sequence):\n",
    "    if not isinstance(sequence, str): return None\n",
    "    scores = [hydropathy_index.get(aa, 0) for aa in sequence if aa in hydropathy_index]\n",
    "    return sum(scores) / len(scores) if scores else None\n",
    "\n",
    "df[\"Hydrophobicity Index\"] = df[\"Amino Acid Sequence\"].apply(calculate_hydrophobicity)\n",
    "\n",
    "print(df[[\"Protein Name\", \"Function\", \"Hydrophobicity Index\"]].head())\n",
    "\n",
    "df.to_excel(r\"C:\\Users\\avani\\Downloads\\Protein_Hydrophobicity_Output.xlsx\", index=False)\n"
   ]
  },
  {
   "cell_type": "code",
   "execution_count": null,
   "id": "664d4456",
   "metadata": {},
   "outputs": [],
   "source": []
  }
 ],
 "metadata": {
  "kernelspec": {
   "display_name": "Python 3 (ipykernel)",
   "language": "python",
   "name": "python3"
  },
  "language_info": {
   "codemirror_mode": {
    "name": "ipython",
    "version": 3
   },
   "file_extension": ".py",
   "mimetype": "text/x-python",
   "name": "python",
   "nbconvert_exporter": "python",
   "pygments_lexer": "ipython3",
   "version": "3.11.7"
  }
 },
 "nbformat": 4,
 "nbformat_minor": 5
}
